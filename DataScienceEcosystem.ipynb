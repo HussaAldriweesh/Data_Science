{
 "cells": [
  {
   "cell_type": "markdown",
   "id": "c9e65964-938e-4a04-a3f8-8efce6350c0a",
   "metadata": {},
   "source": [
    "# Data Science Tools and Ecosystem"
   ]
  },
  {
   "cell_type": "markdown",
   "id": "09dc5cfd-d43d-40a9-bcdc-c168e06653ee",
   "metadata": {},
   "source": [
    "In this notebook, Data Science Tools and Ecosystem are summarized."
   ]
  },
  {
   "cell_type": "markdown",
   "id": "31d6f26b-2869-4684-8b47-ecda865b6562",
   "metadata": {},
   "source": [
    "Some of the popular languages that Data Scientists use are:\n",
    "1. Python\n",
    "2. R\n",
    "3. SQL"
   ]
  },
  {
   "cell_type": "markdown",
   "id": "63c5cc88-80b7-4852-9db7-bc3dfd40f64d",
   "metadata": {},
   "source": [
    "Some of the commonly used libraries used by Data Scientists include:\n",
    "1. Pandas\n",
    "2. NumPy\n",
    "3. Matplotlib"
   ]
  },
  {
   "cell_type": "markdown",
   "id": "b53e9f62-34b9-4ef5-9328-191dd16831e3",
   "metadata": {},
   "source": [
    "| Data Science Tools |\n",
    "|--------------------|\n",
    "|  Jupter Notebook   |\n",
    "|      RStudio       |\n",
    "|    Google Colab    |"
   ]
  },
  {
   "cell_type": "markdown",
   "id": "73603e35-6931-4250-9259-3a3e2ed41e5d",
   "metadata": {},
   "source": [
    "### Below are a few examples of evaluating arithmetic expressions in Python"
   ]
  },
  {
   "cell_type": "code",
   "execution_count": 14,
   "id": "2757f7a4-6dd8-45ce-8b2c-27e40b03cc66",
   "metadata": {},
   "outputs": [
    {
     "data": {
      "text/plain": [
       "17"
      ]
     },
     "execution_count": 14,
     "metadata": {},
     "output_type": "execute_result"
    }
   ],
   "source": [
    "#This a simple arithmetic expression to mutiply then add integers\n",
    "(3*4)+5"
   ]
  },
  {
   "cell_type": "code",
   "execution_count": 24,
   "id": "cb3a0755-da36-473e-8260-f0283b170867",
   "metadata": {},
   "outputs": [
    {
     "name": "stdout",
     "output_type": "stream",
     "text": [
      "3.3333333333333335\n"
     ]
    }
   ],
   "source": [
    "#This will convert 200 minutes to hours by diving by 60\n",
    "min = 200\n",
    "hr = min / 60\n",
    "print(hr)"
   ]
  },
  {
   "cell_type": "markdown",
   "id": "bff36ec3-7dd5-47ba-86f1-24b23840e548",
   "metadata": {},
   "source": [
    "**Objectives:**\n",
    "- learn how to use markdown\n",
    "- use arithmetic expressions\n",
    "- create a table"
   ]
  },
  {
   "cell_type": "markdown",
   "id": "28aad0b0-7c48-4f70-a5ff-0713e1edf550",
   "metadata": {},
   "source": [
    "## Author\n",
    "Hussa Aldriweesh"
   ]
  }
 ],
 "metadata": {
  "kernelspec": {
   "display_name": "Python [conda env:Test]",
   "language": "python",
   "name": "conda-env-Test-py"
  },
  "language_info": {
   "codemirror_mode": {
    "name": "ipython",
    "version": 3
   },
   "file_extension": ".py",
   "mimetype": "text/x-python",
   "name": "python",
   "nbconvert_exporter": "python",
   "pygments_lexer": "ipython3",
   "version": "3.12.8"
  }
 },
 "nbformat": 4,
 "nbformat_minor": 5
}
